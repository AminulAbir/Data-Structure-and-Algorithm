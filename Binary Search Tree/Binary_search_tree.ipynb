{
 "cells": [
  {
   "cell_type": "code",
   "execution_count": 53,
   "metadata": {},
   "outputs": [],
   "source": [
    "class Node(object):\n",
    "    def __init__(self, data):\n",
    "        self.data = data\n",
    "        self.leftChild = None\n",
    "        self.rightChild = None\n",
    "        \n",
    "class BinarySearchTree(object):\n",
    "    def __init__(self):\n",
    "        self.root = None\n",
    "        self.size = 0\n",
    "        \n",
    "    def insert(self, data):\n",
    "        self.size = self.size + 1\n",
    "        if not self.root:\n",
    "            self.root = Node(data)\n",
    "        else:\n",
    "            self.insertNode(data, self.root)\n",
    "            \n",
    "    def insertNode(self, data, node):\n",
    "        if data < node.data:\n",
    "            if node.leftChild:\n",
    "                self.insertNode(data, node.leftChild)\n",
    "            else:\n",
    "                node.leftChild = Node(data)\n",
    "        else:\n",
    "            if node.rightChild:\n",
    "                self.insertNode(data, node.rightChild)\n",
    "            else:\n",
    "                node.rightChild = Node(data)\n",
    "                \n",
    "    def size1(self):\n",
    "        return self.size\n",
    "    \n",
    "    def minValue(self):\n",
    "        if self.root:\n",
    "            return self.minNode(self.root)\n",
    "        \n",
    "    def minNode(self, node):\n",
    "        if node.leftChild:\n",
    "            return self.minNode(node.leftChild)\n",
    "        \n",
    "        return node.data\n",
    "    \n",
    "    def maxValue(self):\n",
    "        if self.root:\n",
    "            return self.maxNode(self.root)\n",
    "        \n",
    "    def maxNode(self, node):\n",
    "        if node.rightChild:\n",
    "            return self.maxNode(node.rightChild)\n",
    "        \n",
    "        return node.data\n",
    "    \n",
    "    def traverse(self):\n",
    "        if self.root:\n",
    "            self.traverseInOrder(self.root)\n",
    "    \n",
    "    def traverseInOrder(self, node):\n",
    "        if node.leftChild:\n",
    "            self.traverseInOrder(node.leftChild)\n",
    "\n",
    "        print(node.data)\n",
    "\n",
    "        if node.rightChild:\n",
    "            self.traverseInOrder(node.rightChild)\n",
    "            \n",
    "    def traversePreOrder(self, node):\n",
    "        print(node.data)\n",
    "        \n",
    "        if node.leftChild:\n",
    "            self.traverseInOrder(node.leftChild)\n",
    "\n",
    "        if node.rightChild:\n",
    "            self.traverseInOrder(node.rightChild)\n",
    "            \n",
    "    def traversePostOrder(self, node):\n",
    "        if node.leftChild:\n",
    "            self.traverseInOrder(node.leftChild)\n",
    "\n",
    "        if node.rightChild:\n",
    "            self.traverseInOrder(node.rightChild)\n",
    "            \n",
    "        print(node.data)"
   ]
  },
  {
   "cell_type": "code",
   "execution_count": 54,
   "metadata": {},
   "outputs": [],
   "source": [
    "bst = BinarySearchTree()\n",
    "bst.insert(10)\n",
    "bst.insert(12)\n",
    "bst.insert(9)"
   ]
  },
  {
   "cell_type": "code",
   "execution_count": 55,
   "metadata": {},
   "outputs": [
    {
     "name": "stdout",
     "output_type": "stream",
     "text": [
      "3\n"
     ]
    }
   ],
   "source": [
    "print(bst.size1())"
   ]
  },
  {
   "cell_type": "code",
   "execution_count": 56,
   "metadata": {},
   "outputs": [
    {
     "name": "stdout",
     "output_type": "stream",
     "text": [
      "9\n"
     ]
    }
   ],
   "source": [
    "print(bst.minValue())"
   ]
  },
  {
   "cell_type": "code",
   "execution_count": 57,
   "metadata": {},
   "outputs": [
    {
     "name": "stdout",
     "output_type": "stream",
     "text": [
      "12\n"
     ]
    }
   ],
   "source": [
    "print(bst.maxValue())"
   ]
  },
  {
   "cell_type": "code",
   "execution_count": 58,
   "metadata": {},
   "outputs": [
    {
     "name": "stdout",
     "output_type": "stream",
     "text": [
      "9\n",
      "10\n",
      "12\n"
     ]
    }
   ],
   "source": [
    "bst.traverse()"
   ]
  },
  {
   "cell_type": "code",
   "execution_count": null,
   "metadata": {},
   "outputs": [],
   "source": []
  }
 ],
 "metadata": {
  "kernelspec": {
   "display_name": "Python 3",
   "language": "python",
   "name": "python3"
  },
  "language_info": {
   "codemirror_mode": {
    "name": "ipython",
    "version": 3
   },
   "file_extension": ".py",
   "mimetype": "text/x-python",
   "name": "python",
   "nbconvert_exporter": "python",
   "pygments_lexer": "ipython3",
   "version": "3.7.3"
  }
 },
 "nbformat": 4,
 "nbformat_minor": 2
}
