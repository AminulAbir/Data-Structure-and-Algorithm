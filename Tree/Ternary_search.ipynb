{
 "cells": [
  {
   "cell_type": "code",
   "execution_count": 1,
   "metadata": {},
   "outputs": [],
   "source": [
    "# Ternary Search Tree is only for character or string type but not for integer or float or double\n",
    "\n",
    "# Node for the character and value for the character\n",
    "class Node:\n",
    "    def __init__(self, key):\n",
    "        self.key = key # here we have the single alphabet of the key\n",
    "        self.left = None\n",
    "        self.middle = None\n",
    "        self.right = None\n",
    "        self.value = 0\n",
    "    \n",
    "class TST:\n",
    "    def __init__(self):\n",
    "        self.root = None\n",
    "        \n",
    "    # in order to insert the key and value to the node\n",
    "    def put(self, key, value):        \n",
    "        self.root = self.__put(self.root, key, value, 0)\n",
    "        \n",
    "    def __put(self, x, key, value, index):\n",
    "        i = key[index] # we store the key's index (an alphabet) in i\n",
    "        \n",
    "        if x is None:\n",
    "            x = Node(i) # inserting the single character in the node\n",
    "        if i < x.key:\n",
    "            x.left = self.__put(x.left, key, value, index)\n",
    "        elif i > x.key:\n",
    "            x.right = self.__put(x.right, key, value, index)\n",
    "        elif index < len(key)-1:\n",
    "            x.middle = self.__put(x.middle, key, value, index+1)\n",
    "        else:\n",
    "            x.value = value # when it reaches the last character then we insert the value\n",
    "        return x\n",
    "            \n",
    "    # in order to get the value for give key\n",
    "    def get(self, key):\n",
    "        x = self.__get(self.root, key, 0)\n",
    "        if x is None:\n",
    "            return None\n",
    "        return x.value\n",
    "        \n",
    "    def __get(self, x, key, index):\n",
    "        if x is None:\n",
    "            return None\n",
    "        i = key[index]\n",
    "        if i < x.key:\n",
    "            return self.__get(x.left, key, index)\n",
    "        elif i > x.key:\n",
    "            return self.__get(x.right, key, index)\n",
    "        elif index < len(key)-1:\n",
    "            return self.__get(x.middle, key, index+1)\n",
    "        else:\n",
    "            return x\n",
    "    \n",
    "    # alternative representation of get function by while loop\n",
    "    def getAlternative(self, key):\n",
    "        x = self.root\n",
    "        index = 0        \n",
    "        if x is None:\n",
    "            return None\n",
    "        while x is not None:\n",
    "            i = key[index]\n",
    "            if i < x.key:\n",
    "                x = x.left\n",
    "            elif i > x.key:\n",
    "                x = x.right\n",
    "            elif index < len(key)-1:\n",
    "                x = x.middle\n",
    "                index +=1\n",
    "            else:\n",
    "                return x.value"
   ]
  },
  {
   "cell_type": "code",
   "execution_count": 2,
   "metadata": {},
   "outputs": [
    {
     "name": "stdout",
     "output_type": "stream",
     "text": [
      "78\n",
      "None\n",
      "78\n",
      "None\n"
     ]
    }
   ],
   "source": [
    "if __name__ == \"__main__\":\n",
    "    tst = TST()\n",
    "\n",
    "    tst.put(\"abc\", 100)\n",
    "    tst.put(\"def\", 50)\n",
    "    tst.put(\"ahg\", 78)\n",
    "    tst.put(\"dir\", 45)\n",
    "    tst.put(\"cuz\", 62)\n",
    "    tst.put(\"aiu\", 14)\n",
    "    tst.put(\"yur\", 25)\n",
    "    tst.put(\"cui\", 33)\n",
    "    tst.put(\"kle\", 75)\n",
    "\n",
    "    print(tst.get(\"ahg\"))\n",
    "    print(tst.get(\"zhg\"))\n",
    "\n",
    "    print(tst.getAlternative(\"ahg\"))\n",
    "    print(tst.getAlternative(\"zhg\"))"
   ]
  },
  {
   "cell_type": "code",
   "execution_count": null,
   "metadata": {},
   "outputs": [],
   "source": []
  }
 ],
 "metadata": {
  "kernelspec": {
   "display_name": "Python 3",
   "language": "python",
   "name": "python3"
  },
  "language_info": {
   "codemirror_mode": {
    "name": "ipython",
    "version": 3
   },
   "file_extension": ".py",
   "mimetype": "text/x-python",
   "name": "python",
   "nbconvert_exporter": "python",
   "pygments_lexer": "ipython3",
   "version": "3.7.3"
  }
 },
 "nbformat": 4,
 "nbformat_minor": 2
}
