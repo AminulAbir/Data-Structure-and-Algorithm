{
 "cells": [
  {
   "cell_type": "code",
   "execution_count": 1,
   "metadata": {},
   "outputs": [],
   "source": [
    "# inorder to make nodes for key and value\n",
    "class Node:\n",
    "    def __init__(self, key, value, color):\n",
    "        self.key = key\n",
    "        self.value = value\n",
    "        self.left = None\n",
    "        self.right = None\n",
    "        self.color = color\n",
    "\n",
    "# class for Red Black Tree\n",
    "class RBT:\n",
    "    RED = True # red color is consider to be true\n",
    "    BLACK = False # black color is consider to be false\n",
    "    \n",
    "    def __init__(self):\n",
    "        self.root = None\n",
    "        self.N = 0\n",
    "        \n",
    "    # insert the key and values    \n",
    "    def put(self, key, value):\n",
    "        self.N += 1\n",
    "        self.root = self.__put(self.root, key, value)\n",
    "    \n",
    "    def __put(self, x, key, value):\n",
    "        if x == None:\n",
    "            return Node(key, value, RBT.RED)\n",
    "        if key < x.key:\n",
    "            x.left = self.__put(x.left, key, value)\n",
    "        elif key > x.key:\n",
    "            x.right = self.__put(x.right, key, value)\n",
    "        else:\n",
    "            x.value = value\n",
    "                    \n",
    "        # here if we have unbalanced situation then we balance the tree\n",
    "        if self.__isRed(x.right) and not self.__isRed(x.left):\n",
    "            x = self.__rotateLeft(x)\n",
    "        if self.__isRed(x.left) and self.__isRed(x.left.left):\n",
    "            x = self.__rotateRight(x)\n",
    "        if self.__isRed(x.left) and self.__isRed(x.right):\n",
    "            self.__flipColor(x)\n",
    "        \n",
    "        return x\n",
    "    \n",
    "    # search for the value of given key\n",
    "    def get(self, key):\n",
    "        searchedKey = self.root\n",
    "        while searchedKey is not None:\n",
    "            if key < searchedKey.key:\n",
    "                searchedKey = searchedKey.left\n",
    "            elif key > searchedKey.key:\n",
    "                searchedKey = searchedKey.right\n",
    "            else:\n",
    "                return searchedKey.value\n",
    "        return None\n",
    "    \n",
    "    # whether the node is red\n",
    "    def __isRed(self, x):\n",
    "        if x == None:\n",
    "            return RBT.BLACK\n",
    "        return x.color == RBT.RED\n",
    "    \n",
    "    # for flipping the color\n",
    "    def __flipColor(self, x):\n",
    "        x.color = not x.color\n",
    "        x.left.color = not x.left.color        \n",
    "        x.right.color = not x.right.color\n",
    "        \n",
    "    # for rotate left if we have red node on right side    \n",
    "    def __rotateLeft(self, x):\n",
    "        y = x.right\n",
    "        x.right = y.left\n",
    "        y.left = x\n",
    "        y.color = x.color\n",
    "        x.color = RBT.RED        \n",
    "        return y\n",
    "    \n",
    "    # for rotate left if we have sequence of red color     \n",
    "    def __rotateRight(self, x):\n",
    "        y = x.left\n",
    "        x.left = y.right\n",
    "        y.right = x\n",
    "        y.color = x.color\n",
    "        x.color = RBT.RED        \n",
    "        return y\n",
    "    \n",
    "    # here traverse the node In Order\n",
    "    def traverseInOrder(self):\n",
    "        self.__traverse(self.root)\n",
    "    \n",
    "    def __traverse(self, x):\n",
    "        if x == None:\n",
    "            return None\n",
    "        \n",
    "        x.left = self.__traverse(x.left)\n",
    "        print(x.key)\n",
    "        x.right = self.__traverse(x.right)\n",
    "    \n",
    "    # return the size of the array\n",
    "    def sizes(self):\n",
    "        return self.N\n",
    "    \n",
    "    # print the root key    \n",
    "    def rootKey(self):\n",
    "        return self.root.key"
   ]
  },
  {
   "cell_type": "code",
   "execution_count": 8,
   "metadata": {},
   "outputs": [],
   "source": [
    "rbt = RBT()\n",
    "example = \"AnExample\"\n",
    "j=1\n",
    "for i in example:\n",
    "    rbt.put(i, j)\n",
    "    j=j+1"
   ]
  },
  {
   "cell_type": "code",
   "execution_count": 9,
   "metadata": {},
   "outputs": [
    {
     "data": {
      "text/plain": [
       "3"
      ]
     },
     "execution_count": 9,
     "metadata": {},
     "output_type": "execute_result"
    }
   ],
   "source": [
    "rbt.get('E')"
   ]
  },
  {
   "cell_type": "code",
   "execution_count": 10,
   "metadata": {},
   "outputs": [
    {
     "name": "stdout",
     "output_type": "stream",
     "text": [
      "A\n",
      "E\n",
      "a\n",
      "e\n",
      "l\n",
      "m\n",
      "n\n",
      "p\n",
      "x\n"
     ]
    }
   ],
   "source": [
    "rbt.traverseInOrder()"
   ]
  },
  {
   "cell_type": "code",
   "execution_count": 11,
   "metadata": {},
   "outputs": [
    {
     "data": {
      "text/plain": [
       "'l'"
      ]
     },
     "execution_count": 11,
     "metadata": {},
     "output_type": "execute_result"
    }
   ],
   "source": [
    "rbt.rootKey()"
   ]
  },
  {
   "cell_type": "code",
   "execution_count": null,
   "metadata": {},
   "outputs": [],
   "source": []
  }
 ],
 "metadata": {
  "kernelspec": {
   "display_name": "Python 3",
   "language": "python",
   "name": "python3"
  },
  "language_info": {
   "codemirror_mode": {
    "name": "ipython",
    "version": 3
   },
   "file_extension": ".py",
   "mimetype": "text/x-python",
   "name": "python",
   "nbconvert_exporter": "python",
   "pygments_lexer": "ipython3",
   "version": "3.7.3"
  }
 },
 "nbformat": 4,
 "nbformat_minor": 2
}
