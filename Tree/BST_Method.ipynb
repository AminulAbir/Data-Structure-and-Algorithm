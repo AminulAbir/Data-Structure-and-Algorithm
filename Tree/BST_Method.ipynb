{
 "cells": [
  {
   "cell_type": "code",
   "execution_count": 1,
   "metadata": {},
   "outputs": [],
   "source": [
    "class BST:\n",
    "    class Node:\n",
    "        def __init__(self, key, data):\n",
    "            self.data = data\n",
    "            self.key = key\n",
    "            self.left = None\n",
    "            self.right = None\n",
    "            self.count = 1\n",
    "    \n",
    "    def __init__(self):\n",
    "        self.root = None\n",
    "        \n",
    "    def get(self, key):\n",
    "        x = self.root\n",
    "        while x is not None:\n",
    "            if key < x.key:\n",
    "                x = x.left\n",
    "            elif key > x.key:\n",
    "                x = x.right\n",
    "            else:\n",
    "                return x.data\n",
    "        return None\n",
    "    \n",
    "    def put(self, key, data):\n",
    "        self.root = self.__put(self.root, key, data)\n",
    "        \n",
    "    def __put(self, x, key, data):\n",
    "        if x == None:\n",
    "            return BST.Node(key, data)\n",
    "        if key < x.key:\n",
    "            x.left = self.__put(x.left, key, data)\n",
    "        elif key > x.key:\n",
    "            x.right = self.__put(x.right, key, data)\n",
    "        else:\n",
    "            x.data = data\n",
    "        \n",
    "        x.count = 1 + self.__sizes(x.left) + self.__sizes(x.right)\n",
    "        \n",
    "        return x\n",
    "    \n",
    "    def sizes(self):\n",
    "        return self.__sizes(self.root)\n",
    "    \n",
    "    def __sizes(self, x):\n",
    "        if x == None:\n",
    "            return 0\n",
    "        return x.count\n",
    "    \n",
    "    def floor(self, key):\n",
    "        x = self.__floor(self.root, key)\n",
    "        if x == None:\n",
    "            return None\n",
    "        return x.key\n",
    "    \n",
    "    def __floor(self, x, key):\n",
    "        if x == None:\n",
    "            return None\n",
    "        if key < x.key:\n",
    "            return self.__floor(x.left, key)\n",
    "            \n",
    "        t = self.__floor(x.right, key)\n",
    "        if t == None:\n",
    "            return x\n",
    "        return t\n",
    "    \n",
    "    def ceil(self, key):\n",
    "        x = self.__ceil(self.root, key)\n",
    "        if x == None:\n",
    "            return None\n",
    "        return x.key\n",
    "    \n",
    "    def __ceil(self, x, key):\n",
    "        if x == None:\n",
    "            return None\n",
    "        if key > x.key:\n",
    "            return self.__ceil(x.right, key)\n",
    "            \n",
    "        t = self.__ceil(x.left, key)\n",
    "        if t == None:\n",
    "            return x\n",
    "        return t\n",
    "    \n",
    "    def keys(self):\n",
    "        self.__InOrder(self.root)\n",
    "    \n",
    "    def __InOrder(self, x):\n",
    "        if x == None:\n",
    "            return None\n",
    "        \n",
    "        self.__InOrder(x.left)\n",
    "        print(x.key)\n",
    "        self.__InOrder(x.right)\n",
    "    \n",
    "    def rootValue(self):\n",
    "        return self.root.key"
   ]
  },
  {
   "cell_type": "code",
   "execution_count": 2,
   "metadata": {},
   "outputs": [],
   "source": [
    "bst = BST()"
   ]
  },
  {
   "cell_type": "code",
   "execution_count": 3,
   "metadata": {},
   "outputs": [],
   "source": [
    "bst.put(6,8)\n",
    "bst.put(9,4)\n",
    "bst.put(10,45)\n",
    "bst.put(2,7)\n",
    "bst.put(0,10)\n",
    "bst.put(1,15)\n",
    "bst.put(7,18)"
   ]
  },
  {
   "cell_type": "code",
   "execution_count": 4,
   "metadata": {},
   "outputs": [
    {
     "data": {
      "text/plain": [
       "8"
      ]
     },
     "execution_count": 4,
     "metadata": {},
     "output_type": "execute_result"
    }
   ],
   "source": [
    "bst.get(6)"
   ]
  },
  {
   "cell_type": "code",
   "execution_count": 5,
   "metadata": {},
   "outputs": [
    {
     "data": {
      "text/plain": [
       "7"
      ]
     },
     "execution_count": 5,
     "metadata": {},
     "output_type": "execute_result"
    }
   ],
   "source": [
    "bst.sizes()"
   ]
  },
  {
   "cell_type": "code",
   "execution_count": 6,
   "metadata": {},
   "outputs": [
    {
     "data": {
      "text/plain": [
       "7"
      ]
     },
     "execution_count": 6,
     "metadata": {},
     "output_type": "execute_result"
    }
   ],
   "source": [
    "bst.floor(8)"
   ]
  },
  {
   "cell_type": "code",
   "execution_count": 7,
   "metadata": {},
   "outputs": [
    {
     "data": {
      "text/plain": [
       "6"
      ]
     },
     "execution_count": 7,
     "metadata": {},
     "output_type": "execute_result"
    }
   ],
   "source": [
    "bst.ceil(3)"
   ]
  },
  {
   "cell_type": "code",
   "execution_count": 8,
   "metadata": {},
   "outputs": [
    {
     "data": {
      "text/plain": [
       "6"
      ]
     },
     "execution_count": 8,
     "metadata": {},
     "output_type": "execute_result"
    }
   ],
   "source": [
    "bst.rootValue()"
   ]
  },
  {
   "cell_type": "code",
   "execution_count": 9,
   "metadata": {},
   "outputs": [
    {
     "name": "stdout",
     "output_type": "stream",
     "text": [
      "0\n",
      "1\n",
      "2\n",
      "6\n",
      "7\n",
      "9\n",
      "10\n"
     ]
    }
   ],
   "source": [
    "bst.keys()"
   ]
  },
  {
   "cell_type": "code",
   "execution_count": null,
   "metadata": {},
   "outputs": [],
   "source": []
  }
 ],
 "metadata": {
  "kernelspec": {
   "display_name": "Python 3",
   "language": "python",
   "name": "python3"
  },
  "language_info": {
   "codemirror_mode": {
    "name": "ipython",
    "version": 3
   },
   "file_extension": ".py",
   "mimetype": "text/x-python",
   "name": "python",
   "nbconvert_exporter": "python",
   "pygments_lexer": "ipython3",
   "version": "3.7.3"
  }
 },
 "nbformat": 4,
 "nbformat_minor": 2
}
