{
 "cells": [
  {
   "cell_type": "code",
   "execution_count": 1,
   "metadata": {},
   "outputs": [],
   "source": [
    "class Node:\n",
    "        def __init__(self, data):\n",
    "            self.data = data\n",
    "            self.next = None\n",
    "            \n",
    "class Stack:\n",
    "    def __init__(self):\n",
    "        self.head = None\n",
    "        self.size = 0\n",
    "        \n",
    "    def isEmpty(self):\n",
    "        return self.head == None\n",
    "        \n",
    "    def push(self, data):\n",
    "        self.size = self.size + 1\n",
    "        newData = Node(data)\n",
    "        \n",
    "        if self.head is None:\n",
    "            self.head = newData\n",
    "        else:\n",
    "            newData.next = self.head\n",
    "            self.head = newData\n",
    "            \n",
    "    def pop(self):\n",
    "        self.size = self.size - 1\n",
    "        retData = self.head\n",
    "        self.head = self.head.next\n",
    "        return retData.data\n",
    "    \n",
    "    def top(self):\n",
    "        return self.head.data\n",
    "    \n",
    "    def size1(self):\n",
    "        return self.size\n",
    "    \n",
    "class Queue:\n",
    "    def __init__(self):\n",
    "        self.head = None\n",
    "        self.size = 0\n",
    "        \n",
    "    def isEmpty(self):\n",
    "        return self.head == None\n",
    "        \n",
    "    def enqueue(self, data):\n",
    "        self.size = self.size + 1\n",
    "        newData = Node(data)\n",
    "        current = self.head\n",
    "        \n",
    "        if self.head is None:\n",
    "            self.head = newData\n",
    "        else:\n",
    "            while current.next is not None:\n",
    "                current = current.next\n",
    "            current.next = newData\n",
    "            \n",
    "    def dequeue(self):\n",
    "        self.size = self.size - 1\n",
    "        retData = self.head\n",
    "        self.head = self.head.next\n",
    "        return retData.data\n",
    "    \n",
    "    def top(self):\n",
    "        return self.head.data\n",
    "    \n",
    "    def size1(self):\n",
    "        return self.size"
   ]
  },
  {
   "cell_type": "markdown",
   "metadata": {},
   "source": [
    "Stack Test"
   ]
  },
  {
   "cell_type": "code",
   "execution_count": 2,
   "metadata": {},
   "outputs": [],
   "source": [
    "stack = Stack()"
   ]
  },
  {
   "cell_type": "code",
   "execution_count": 3,
   "metadata": {},
   "outputs": [],
   "source": [
    "stack.push(10)\n",
    "stack.push(15)\n",
    "stack.push(20)\n",
    "stack.push(30)"
   ]
  },
  {
   "cell_type": "code",
   "execution_count": 4,
   "metadata": {},
   "outputs": [
    {
     "name": "stdout",
     "output_type": "stream",
     "text": [
      "Peek:  30\n",
      "Size:  4\n"
     ]
    }
   ],
   "source": [
    "print('Peek: ', stack.top())\n",
    "print('Size: ', stack.size1())"
   ]
  },
  {
   "cell_type": "code",
   "execution_count": 5,
   "metadata": {},
   "outputs": [
    {
     "data": {
      "text/plain": [
       "30"
      ]
     },
     "execution_count": 5,
     "metadata": {},
     "output_type": "execute_result"
    }
   ],
   "source": [
    "stack.pop()"
   ]
  },
  {
   "cell_type": "code",
   "execution_count": 6,
   "metadata": {},
   "outputs": [
    {
     "name": "stdout",
     "output_type": "stream",
     "text": [
      "Peek:  20\n",
      "Size:  3\n"
     ]
    }
   ],
   "source": [
    "print('Peek: ', stack.top())\n",
    "print('Size: ', stack.size1())"
   ]
  },
  {
   "cell_type": "markdown",
   "metadata": {},
   "source": [
    "Queue Test"
   ]
  },
  {
   "cell_type": "code",
   "execution_count": 7,
   "metadata": {},
   "outputs": [],
   "source": [
    "queue = Queue()"
   ]
  },
  {
   "cell_type": "code",
   "execution_count": 8,
   "metadata": {},
   "outputs": [],
   "source": [
    "queue.enqueue(10)\n",
    "queue.enqueue(15)\n",
    "queue.enqueue(20)\n",
    "queue.enqueue(30)"
   ]
  },
  {
   "cell_type": "code",
   "execution_count": 9,
   "metadata": {},
   "outputs": [
    {
     "name": "stdout",
     "output_type": "stream",
     "text": [
      "Peek:  10\n",
      "Size:  4\n"
     ]
    }
   ],
   "source": [
    "print('Peek: ', queue.top())\n",
    "print('Size: ', queue.size1())"
   ]
  },
  {
   "cell_type": "code",
   "execution_count": 10,
   "metadata": {},
   "outputs": [
    {
     "data": {
      "text/plain": [
       "10"
      ]
     },
     "execution_count": 10,
     "metadata": {},
     "output_type": "execute_result"
    }
   ],
   "source": [
    "queue.dequeue()"
   ]
  },
  {
   "cell_type": "code",
   "execution_count": 11,
   "metadata": {},
   "outputs": [
    {
     "name": "stdout",
     "output_type": "stream",
     "text": [
      "Peek:  15\n",
      "Size:  3\n"
     ]
    }
   ],
   "source": [
    "print('Peek: ', queue.top())\n",
    "print('Size: ', queue.size1())"
   ]
  },
  {
   "cell_type": "code",
   "execution_count": null,
   "metadata": {},
   "outputs": [],
   "source": []
  }
 ],
 "metadata": {
  "kernelspec": {
   "display_name": "Python 3",
   "language": "python",
   "name": "python3"
  },
  "language_info": {
   "codemirror_mode": {
    "name": "ipython",
    "version": 3
   },
   "file_extension": ".py",
   "mimetype": "text/x-python",
   "name": "python",
   "nbconvert_exporter": "python",
   "pygments_lexer": "ipython3",
   "version": "3.7.3"
  }
 },
 "nbformat": 4,
 "nbformat_minor": 2
}
