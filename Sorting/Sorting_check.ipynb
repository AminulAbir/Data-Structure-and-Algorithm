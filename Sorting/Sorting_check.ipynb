{
 "cells": [
  {
   "cell_type": "code",
   "execution_count": 9,
   "metadata": {},
   "outputs": [],
   "source": [
    "import random"
   ]
  },
  {
   "cell_type": "code",
   "execution_count": 10,
   "metadata": {},
   "outputs": [],
   "source": [
    "def swap(array, x, y):\n",
    "    # array[x], array[y] = array[y], array[x]\n",
    "    temp = array[x]\n",
    "    array[x] = array[y]\n",
    "    array[y] = temp"
   ]
  },
  {
   "cell_type": "code",
   "execution_count": 11,
   "metadata": {},
   "outputs": [],
   "source": [
    "# Write your sort here\n",
    "\n"
   ]
  },
  {
   "cell_type": "code",
   "execution_count": 12,
   "metadata": {},
   "outputs": [
    {
     "name": "stdout",
     "output_type": "stream",
     "text": [
      "Test Case for 10 array values: OK (Ascending)\n",
      "Test Case for 100 array values: OK (Ascending)\n",
      "Test Case for 1000 array values: OK (Ascending)\n"
     ]
    }
   ],
   "source": [
    "if __name__ == \"__main__\":\n",
    "    test_cases = [10,100,1000]\n",
    "    \n",
    "    for i in test_cases:\n",
    "        array = []\n",
    "        countA = 1\n",
    "        countD = 1\n",
    "        \n",
    "        for j in range(0,i):        \n",
    "            ran = random.randint(-i,i)\n",
    "            array.append(ran)\n",
    "\n",
    "        ans = SORT_NAME(array) # change the name of sort according to your task\n",
    "        \n",
    "        for k in range(0,len(ans)-1,1):\n",
    "            if ans[k] <= ans[k+1]:\n",
    "                countA = countA+1\n",
    "        \n",
    "        for k in range(0,len(ans)-1,1):\n",
    "            if ans[k] >= ans[k+1]:\n",
    "                countD = countD+1\n",
    "                \n",
    "        if countA == len(array):\n",
    "            print(f\"Test Case for {len(array)} array values: OK (Ascending)\")\n",
    "        elif countD == len(array):\n",
    "            print(f\"Test Case for {len(array)} array values: OK (Descending)\")\n",
    "        else:\n",
    "            print(f\"Test Case for {len(array)} array values: Failed\")      "
   ]
  },
  {
   "cell_type": "code",
   "execution_count": null,
   "metadata": {},
   "outputs": [],
   "source": []
  }
 ],
 "metadata": {
  "kernelspec": {
   "display_name": "Python 3",
   "language": "python",
   "name": "python3"
  },
  "language_info": {
   "codemirror_mode": {
    "name": "ipython",
    "version": 3
   },
   "file_extension": ".py",
   "mimetype": "text/x-python",
   "name": "python",
   "nbconvert_exporter": "python",
   "pygments_lexer": "ipython3",
   "version": "3.7.3"
  }
 },
 "nbformat": 4,
 "nbformat_minor": 2
}
