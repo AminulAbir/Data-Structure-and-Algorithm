{
 "cells": [
  {
   "cell_type": "code",
   "execution_count": 24,
   "metadata": {},
   "outputs": [],
   "source": [
    "def swap(array, x, y):\n",
    "    array[x], array[y] = array[y], array[x]"
   ]
  },
  {
   "cell_type": "code",
   "execution_count": 25,
   "metadata": {},
   "outputs": [],
   "source": [
    "class HeapPQ:\n",
    "    def __init__(self, capacity = 100):\n",
    "        self.array = [None]*capacity\n",
    "        self.N = 0\n",
    "    \n",
    "    def isEmpty(self):\n",
    "        return self.N == 0\n",
    "    \n",
    "    def size(self):\n",
    "        return self.N\n",
    "    \n",
    "    def insertItem(self, x):\n",
    "        self.N = self.N+1\n",
    "        self.array[self.N] = x\n",
    "        self.swim(self.N)\n",
    "        \n",
    "    def swim(self, k):\n",
    "        while k>1 and self.array[k] > self.array[k//2]:\n",
    "            swap(self.array, k, k//2)\n",
    "            k = k//2\n",
    "            \n",
    "    def removeMax(self):\n",
    "        maxItem = self.array[1]\n",
    "        swap(self.array, 1, self.N)\n",
    "        self.N = self.N-1\n",
    "        self.sink(1)\n",
    "        self.array[self.N+1] = None\n",
    "        return maxItem\n",
    "    \n",
    "    def sink(self, k):\n",
    "        while k*2 <= self.N:\n",
    "            j = k*2\n",
    "            if j<self.N and self.array[j]< self.array[j+1]:\n",
    "                j=j+1\n",
    "            if self.array[k] >= self.array[j]:\n",
    "                break\n",
    "            swap(self.array, j, k)\n",
    "            k = j\n",
    "        \n",
    "    def printItems(self):\n",
    "        print('Array: ', end='')\n",
    "        for i in range(1, self.N+1, 1):\n",
    "            print(self.array[i], end=' ')"
   ]
  },
  {
   "cell_type": "code",
   "execution_count": 30,
   "metadata": {},
   "outputs": [],
   "source": [
    "def heap_sort(array):\n",
    "    N = len(array)\n",
    "    heap = HeapPQ()\n",
    "    for i in array:\n",
    "        heap.insertItem(i)\n",
    "    for j in range(N-1, -1, -1):\n",
    "        array[j] = heap.removeMax()"
   ]
  },
  {
   "cell_type": "code",
   "execution_count": 31,
   "metadata": {},
   "outputs": [
    {
     "name": "stdout",
     "output_type": "stream",
     "text": [
      "Sorted Array:  [-8, -6, -5, 1, 3, 4, 4, 6, 7, 8, 10, 18]\n"
     ]
    }
   ],
   "source": [
    "if __name__ == \"__main__\":\n",
    "    array = [-5,4,8,1,10,-8,-6,18,4,6,7,3]\n",
    "    heap_sort(array)\n",
    "    print('Sorted Array: ', array)"
   ]
  },
  {
   "cell_type": "code",
   "execution_count": null,
   "metadata": {},
   "outputs": [],
   "source": []
  }
 ],
 "metadata": {
  "kernelspec": {
   "display_name": "Python 3",
   "language": "python",
   "name": "python3"
  },
  "language_info": {
   "codemirror_mode": {
    "name": "ipython",
    "version": 3
   },
   "file_extension": ".py",
   "mimetype": "text/x-python",
   "name": "python",
   "nbconvert_exporter": "python",
   "pygments_lexer": "ipython3",
   "version": "3.7.3"
  }
 },
 "nbformat": 4,
 "nbformat_minor": 2
}
