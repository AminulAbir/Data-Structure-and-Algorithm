{
 "cells": [
  {
   "cell_type": "code",
   "execution_count": 71,
   "metadata": {},
   "outputs": [],
   "source": [
    "import random \n",
    "#O(n)\n",
    "def quick_partition(array, lo, hi):\n",
    "    #pivot = (lo+hi)//2\n",
    "    pivot = random.randint(lo,hi)\n",
    "    \n",
    "    swap(array, pivot, hi)\n",
    "    i = lo\n",
    "    for j in range(lo, hi, 1):\n",
    "        if array[j] <= array[hi]:\n",
    "            swap(array, i, j)\n",
    "            i = i+1\n",
    "    swap(array, i, hi) #wheddn i is no longer less than hi than we move i and hi to get the pivot\n",
    "    return i # return i as pivot"
   ]
  },
  {
   "cell_type": "code",
   "execution_count": 72,
   "metadata": {},
   "outputs": [],
   "source": [
    "#O(logn)\n",
    "def quick_divide(array, lo, hi):\n",
    "    if lo >= hi:      # base case\n",
    "        return\n",
    "    pivot = quick_partition(array, lo, hi)\n",
    "    quick_divide(array, lo, pivot-1)\n",
    "    quick_divide(array, pivot+1, hi)\n",
    "    return array"
   ]
  },
  {
   "cell_type": "code",
   "execution_count": 73,
   "metadata": {},
   "outputs": [],
   "source": [
    "def swap(array, x, y):\n",
    "    temp = array[x]\n",
    "    array[x] = array[y]\n",
    "    array[y] = temp"
   ]
  },
  {
   "cell_type": "code",
   "execution_count": 74,
   "metadata": {},
   "outputs": [
    {
     "name": "stdout",
     "output_type": "stream",
     "text": [
      "[-5, -2, 0, 1, 2, 4, 7, 9]\n"
     ]
    }
   ],
   "source": [
    "array = [4,-2,7,1,9,0,-5,2]\n",
    "lo = 0\n",
    "hi = len(array)-1\n",
    "print(quick_divide(array, lo, hi))"
   ]
  },
  {
   "cell_type": "code",
   "execution_count": null,
   "metadata": {},
   "outputs": [],
   "source": []
  }
 ],
 "metadata": {
  "kernelspec": {
   "display_name": "Python 3",
   "language": "python",
   "name": "python3"
  },
  "language_info": {
   "codemirror_mode": {
    "name": "ipython",
    "version": 3
   },
   "file_extension": ".py",
   "mimetype": "text/x-python",
   "name": "python",
   "nbconvert_exporter": "python",
   "pygments_lexer": "ipython3",
   "version": "3.7.3"
  }
 },
 "nbformat": 4,
 "nbformat_minor": 2
}
