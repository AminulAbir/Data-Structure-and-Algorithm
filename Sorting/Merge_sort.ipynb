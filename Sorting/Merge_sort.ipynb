{
 "cells": [
  {
   "cell_type": "code",
   "execution_count": 36,
   "metadata": {},
   "outputs": [],
   "source": [
    "def merge_conq(array, aux, lo, mid, hi):\n",
    "    aux[lo:hi+1] = array[lo:hi+1]\n",
    "    i = lo\n",
    "    j = mid+1\n",
    "    for k in range(lo,hi+1,1):\n",
    "        if i>mid:\n",
    "            array[k] = aux[j]\n",
    "            j = j+1\n",
    "        elif j>hi:\n",
    "            array[k] = aux[i]\n",
    "            i = i+1\n",
    "        elif aux[j]<aux[i]:\n",
    "            array[k] = aux[j]\n",
    "            j = j+1\n",
    "        else:\n",
    "            array[k] = aux[i]\n",
    "            i = i+1"
   ]
  },
  {
   "cell_type": "code",
   "execution_count": 37,
   "metadata": {},
   "outputs": [],
   "source": [
    "def merge_div(array, aux, lo, hi):\n",
    "    if lo>=hi:\n",
    "        return\n",
    "    mid = (lo+hi)//2\n",
    "    \n",
    "    merge_div(array, aux, lo, mid)\n",
    "    merge_div(array, aux, mid+1, hi)\n",
    "    merge_conq(array, aux, lo, mid, hi)"
   ]
  },
  {
   "cell_type": "code",
   "execution_count": 38,
   "metadata": {},
   "outputs": [],
   "source": [
    "def merge_array(array):\n",
    "    n = len(array)\n",
    "    lo = 0\n",
    "    hi = n-1\n",
    "    aux = [0]*n\n",
    "    merge_div(array,aux,lo,hi)\n",
    "    return array"
   ]
  },
  {
   "cell_type": "code",
   "execution_count": 39,
   "metadata": {},
   "outputs": [
    {
     "name": "stdout",
     "output_type": "stream",
     "text": [
      "[-2, -1, 0, 2, 3, 5, 7, 8]\n"
     ]
    }
   ],
   "source": [
    "if __name__ == \"__main__\":\n",
    "    array = [5,-2,7,8,0,-1,3,2]\n",
    "    sorted_array = merge_array(array)\n",
    "    print(sorted_array)"
   ]
  },
  {
   "cell_type": "code",
   "execution_count": null,
   "metadata": {},
   "outputs": [],
   "source": []
  }
 ],
 "metadata": {
  "kernelspec": {
   "display_name": "Python 3",
   "language": "python",
   "name": "python3"
  },
  "language_info": {
   "codemirror_mode": {
    "name": "ipython",
    "version": 3
   },
   "file_extension": ".py",
   "mimetype": "text/x-python",
   "name": "python",
   "nbconvert_exporter": "python",
   "pygments_lexer": "ipython3",
   "version": "3.7.3"
  }
 },
 "nbformat": 4,
 "nbformat_minor": 2
}
