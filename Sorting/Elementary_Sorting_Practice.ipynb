{
 "cells": [
  {
   "cell_type": "markdown",
   "metadata": {},
   "source": [
    " Swapping"
   ]
  },
  {
   "cell_type": "code",
   "execution_count": 4,
   "metadata": {},
   "outputs": [],
   "source": [
    "def swap(array, x, y):\n",
    "    temp = array[x]\n",
    "    array[x] = array[y]\n",
    "    array[y] = temp"
   ]
  },
  {
   "cell_type": "markdown",
   "metadata": {},
   "source": [
    "Knuth Shuffle"
   ]
  },
  {
   "cell_type": "code",
   "execution_count": 5,
   "metadata": {},
   "outputs": [],
   "source": [
    "import random\n",
    "def k_shuffle(array):\n",
    "    N = len(array)\n",
    "    for i in range(N):\n",
    "        r = random.randint(0,i)\n",
    "        swap(array, i, r)\n",
    "    return array"
   ]
  },
  {
   "cell_type": "markdown",
   "metadata": {},
   "source": [
    "Selection Sort"
   ]
  },
  {
   "cell_type": "code",
   "execution_count": 6,
   "metadata": {},
   "outputs": [],
   "source": [
    "#compare array[j] < array[mini]\n",
    "#swap i and mini\n",
    "# N = len(array)\n",
    "\n",
    "def selection_sort(array):\n",
    "    for i in range (len(array)):\n",
    "        mini = i\n",
    "        for j in range (i+1, len(array), 1):\n",
    "            if array[j]<array[mini]:\n",
    "                mini = j\n",
    "        if mini != i:\n",
    "            swap(array, i, mini)\n",
    "    return array"
   ]
  },
  {
   "cell_type": "markdown",
   "metadata": {},
   "source": [
    "Insertion Sort"
   ]
  },
  {
   "cell_type": "code",
   "execution_count": 7,
   "metadata": {},
   "outputs": [],
   "source": [
    "#compare array[j]<array[j-1]\n",
    "#swap j and j-1\n",
    "# N = len(array)\n",
    "\n",
    "def insertion_sort(array):\n",
    "    for i in range(len(array)):\n",
    "        j = i\n",
    "        while j>0 and array[j]<array[j-1]:\n",
    "            swap(array, j, j-1)\n",
    "            j = j-1\n",
    "    return array"
   ]
  },
  {
   "cell_type": "markdown",
   "metadata": {},
   "source": [
    "Bubble Sort"
   ]
  },
  {
   "cell_type": "code",
   "execution_count": 8,
   "metadata": {},
   "outputs": [],
   "source": [
    "#compare array[j]<array[j+1]\n",
    "#swap j and j+1\n",
    "# N = len(array)-1\n",
    "\n",
    "def bubble_sort(array):\n",
    "    for i in range(len(array)-1):\n",
    "        for j in range (0, (len(array)-1-i), 1):\n",
    "            if array[j] > array[j+1]:\n",
    "                swap(array, j, j+1)\n",
    "    return array"
   ]
  },
  {
   "cell_type": "markdown",
   "metadata": {},
   "source": [
    "Shell Sort"
   ]
  },
  {
   "cell_type": "code",
   "execution_count": 9,
   "metadata": {},
   "outputs": [],
   "source": [
    "#compare array[j]<array[j-h]\n",
    "#swap j and j-h\n",
    "# N = len(array)\n",
    "\n",
    "def shell_sort(array):\n",
    "    N = len(array)\n",
    "    h = 1\n",
    "    while h < N//3:\n",
    "        h = 3*h+1  #increment sequence\n",
    "    while h >= 1:\n",
    "        for i in range(h,len(array)):\n",
    "            j=i\n",
    "            while j >= h and array[j]<array[j-h]:\n",
    "                swap(array, j, j-h)\n",
    "                j = j-h\n",
    "        h = h//3\n",
    "    return array"
   ]
  },
  {
   "cell_type": "markdown",
   "metadata": {},
   "source": [
    "Main Function"
   ]
  },
  {
   "cell_type": "code",
   "execution_count": 12,
   "metadata": {},
   "outputs": [
    {
     "name": "stdout",
     "output_type": "stream",
     "text": [
      "[0, -2, 2, 1, -3, 9, 5, 4, 8]\n",
      "[-3, -2, 0, 1, 2, 4, 5, 8, 9]\n",
      "[-3, -2, 0, 1, 2, 4, 5, 8, 9]\n",
      "[-3, -2, 0, 1, 2, 4, 5, 8, 9]\n",
      "[-3, -2, 0, 1, 2, 4, 5, 8, 9]\n"
     ]
    }
   ],
   "source": [
    "if __name__ == \"__main__\":\n",
    "    array = [-2,0,8,-3,4,9,2,1,5]\n",
    "    \n",
    "    print(k_shuffle(array))\n",
    "    print(selection_sort(array))\n",
    "    print(insertion_sort(array))\n",
    "    print(bubble_sort(array))\n",
    "    print(shell_sort(array))"
   ]
  },
  {
   "cell_type": "code",
   "execution_count": null,
   "metadata": {},
   "outputs": [],
   "source": []
  }
 ],
 "metadata": {
  "kernelspec": {
   "display_name": "Python 3",
   "language": "python",
   "name": "python3"
  },
  "language_info": {
   "codemirror_mode": {
    "name": "ipython",
    "version": 3
   },
   "file_extension": ".py",
   "mimetype": "text/x-python",
   "name": "python",
   "nbconvert_exporter": "python",
   "pygments_lexer": "ipython3",
   "version": "3.7.3"
  }
 },
 "nbformat": 4,
 "nbformat_minor": 2
}
