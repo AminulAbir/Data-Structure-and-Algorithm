{
 "cells": [
  {
   "cell_type": "code",
   "execution_count": 1,
   "metadata": {},
   "outputs": [],
   "source": [
    "# hashing by separate chaining symbol table\n",
    "\n",
    "# create the node for same index for each key\n",
    "class Node:\n",
    "    def __init__(self, key, data, next):\n",
    "        self.key = key\n",
    "        self.data = data\n",
    "        self.next = next\n",
    "    \n",
    "    # this function defines the official string of our key, data and next pointed object\n",
    "    def __repr__(self):\n",
    "        return str(self.key) + \":\" + str(self.data) + \"->\" + str(self.next)\n",
    "\n",
    "class SCSTHashing:\n",
    "    def __init__(self):\n",
    "        self.N = 10\n",
    "        self.array = [None]*self.N\n",
    "    \n",
    "    # clculates the hash value\n",
    "    def __hashIndex(self, key):\n",
    "        return hash(key)%self.N\n",
    "    \n",
    "    # insert the key and data\n",
    "    def put(self, key, data):\n",
    "        index = self.__hashIndex(key)\n",
    "        x = self.array[index]\n",
    "        while x is not None:\n",
    "            if x.key == key:\n",
    "                x.data = data\n",
    "                return\n",
    "            x = x.next\n",
    "        self.array[index] = Node(key, data, self.array[index])\n",
    "    \n",
    "    # get the data for given key\n",
    "    def get(self, key):\n",
    "        index = self.__hashIndex(key)\n",
    "        x = self.array[index]\n",
    "        while x is not None:\n",
    "            if x.key == key:\n",
    "                return x.data\n",
    "            x = x.next\n",
    "        return None\n",
    "    \n",
    "    # this returns the official string of our array\n",
    "    def __repr__(self):\n",
    "        return str(self.array)\n",
    "\n"
   ]
  },
  {
   "cell_type": "code",
   "execution_count": 2,
   "metadata": {},
   "outputs": [
    {
     "name": "stdout",
     "output_type": "stream",
     "text": [
      "xyz\n",
      "[klm:iur->None, None, ijk:hju->None, None, None, def:iur->None, None, bdx:uzr->None, None, abc:xyz->None]\n"
     ]
    }
   ],
   "source": [
    "if __name__ == \"__main__\":\n",
    "    hashing = SCSTHashing()\n",
    "\n",
    "    hashing.put(\"abc\", \"xyz\")\n",
    "    hashing.put(\"ijk\", \"hju\")\n",
    "    hashing.put(\"bdx\", \"uzr\")\n",
    "    hashing.put(\"def\", \"iur\")\n",
    "    hashing.put(\"klm\", \"iur\")\n",
    "    \n",
    "    print(hashing.get(\"abc\"))\n",
    "    \n",
    "    print(hashing)"
   ]
  }
 ],
 "metadata": {
  "kernelspec": {
   "display_name": "Python 3",
   "language": "python",
   "name": "python3"
  },
  "language_info": {
   "codemirror_mode": {
    "name": "ipython",
    "version": 3
   },
   "file_extension": ".py",
   "mimetype": "text/x-python",
   "name": "python",
   "nbconvert_exporter": "python",
   "pygments_lexer": "ipython3",
   "version": "3.7.3"
  }
 },
 "nbformat": 4,
 "nbformat_minor": 2
}
